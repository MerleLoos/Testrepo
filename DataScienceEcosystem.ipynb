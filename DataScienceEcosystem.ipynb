{
 "cells": [
  {
   "cell_type": "markdown",
   "id": "350d372b",
   "metadata": {},
   "source": [
    "# Data Science Tools and Ecosystem"
   ]
  },
  {
   "cell_type": "markdown",
   "id": "0618e1f7",
   "metadata": {},
   "source": [
    "## Author\n",
    "Merle"
   ]
  },
  {
   "cell_type": "markdown",
   "id": "978f5c15",
   "metadata": {},
   "source": [
    "## In this notebook, Data Science Tools and Ecosystem are summarized "
   ]
  },
  {
   "cell_type": "markdown",
   "id": "40fa1437",
   "metadata": {},
   "source": [
    "## ***Objectives:***\n",
    "\n",
    "* List popular languages for Data Science\n",
    "* Some of the commonly used libraries used by Data Scientists \n",
    "* Table with Data Science tools\n"
   ]
  },
  {
   "cell_type": "markdown",
   "id": "83140f97",
   "metadata": {},
   "source": [
    "## Some of the popular languages that Data Scientists use are:\n",
    "\n",
    "1: Python\n",
    "2: R\n",
    "3: SQL (Structured Query Language)\n"
   ]
  },
  {
   "cell_type": "markdown",
   "id": "721ddc00",
   "metadata": {},
   "source": [
    "## Some of the commonly used libraries used by Data Scientists include:\n",
    "\n",
    "1: Numpy\n",
    "2: Pandas\n",
    "3: Matplotlib\n",
    "4: Scikit-Learn"
   ]
  },
  {
   "cell_type": "markdown",
   "id": "ca890459",
   "metadata": {},
   "source": [
    "## Table with Data Science Tools\n",
    "\n",
    "\n",
    "|Data Science Tools|\n",
    "|:----:|\n",
    "|Jupyter Notebooks|\n",
    "|RStudio|\n",
    "|Watson Studio|\n"
   ]
  },
  {
   "cell_type": "markdown",
   "id": "1ba575ff",
   "metadata": {},
   "source": [
    "### Below are a few examples of evaluating arithmetic expressions in Python\n",
    "\n",
    "+, -, *"
   ]
  },
  {
   "cell_type": "code",
   "execution_count": 13,
   "id": "db812ada",
   "metadata": {},
   "outputs": [
    {
     "data": {
      "text/plain": [
       "17"
      ]
     },
     "execution_count": 13,
     "metadata": {},
     "output_type": "execute_result"
    }
   ],
   "source": [
    "#This a smiple arithmetic expression to multiply then add integers\n",
    "\n",
    "(3*4)+5"
   ]
  },
  {
   "cell_type": "code",
   "execution_count": 14,
   "id": "638a349a",
   "metadata": {},
   "outputs": [
    {
     "data": {
      "text/plain": [
       "3.3333333333333335"
      ]
     },
     "execution_count": 14,
     "metadata": {},
     "output_type": "execute_result"
    }
   ],
   "source": [
    "# This will convert 200 minutes to hours by diving by 60\n",
    "\n",
    "200/60"
   ]
  }
 ],
 "metadata": {
  "kernelspec": {
   "display_name": "Python 3 (ipykernel)",
   "language": "python",
   "name": "python3"
  },
  "language_info": {
   "codemirror_mode": {
    "name": "ipython",
    "version": 3
   },
   "file_extension": ".py",
   "mimetype": "text/x-python",
   "name": "python",
   "nbconvert_exporter": "python",
   "pygments_lexer": "ipython3",
   "version": "3.10.9"
  }
 },
 "nbformat": 4,
 "nbformat_minor": 5
}
